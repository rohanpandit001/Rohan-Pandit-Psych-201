{
 "cells": [
  {
   "cell_type": "markdown",
   "id": "edea7e5a",
   "metadata": {},
   "source": [
    "A hobby I have been pursuing recently has been journalism. I am an avid esports fan, and a game I have been in love with since 2015 is Rocket League. Since I have been in the scene for so long, I have developed long term connections with multiple players, and use my unique connections to get interviews with players and post about roster moves. I have had the opportunity to get paid for what I do, and I am going to be flown out to San Diego this April to cover the event.\n"
   ]
  },
  {
   "cell_type": "code",
   "execution_count": 3,
   "id": "36ad2ab2",
   "metadata": {},
   "outputs": [],
   "source": [
    "from IPython.display import HTML"
   ]
  },
  {
   "cell_type": "code",
   "execution_count": 2,
   "id": "d8d2fd72",
   "metadata": {},
   "outputs": [
    {
     "data": {
      "text/html": [
       "\n",
       "<video width=\"320\" height=\"240\" controls>\n",
       "  <source src=\"https://github.com/rohanpandit001/Rohan-Pandit-Psych-201/blob/main/cj%20huntress.mp4?raw=true\" type=\"video/mp4\">\n",
       "</video>\n"
      ],
      "text/plain": [
       "<IPython.core.display.HTML object>"
      ]
     },
     "execution_count": 2,
     "metadata": {},
     "output_type": "execute_result"
    }
   ],
   "source": [
    "HTML(\"\"\"\n",
    "<video width=\"320\" height=\"240\" controls>\n",
    "  <source src=\"https://github.com/rohanpandit001/Rohan-Pandit-Psych-201/blob/main/cj%20huntress.mp4?raw=true\" type=\"video/mp4\">\n",
    "</video>\n",
    "\"\"\")\n"
   ]
  },
  {
   "cell_type": "code",
   "execution_count": null,
   "id": "606d8d92",
   "metadata": {},
   "outputs": [],
   "source": []
  }
 ],
 "metadata": {
  "kernelspec": {
   "display_name": "Python 3 (ipykernel)",
   "language": "python",
   "name": "python3"
  },
  "language_info": {
   "codemirror_mode": {
    "name": "ipython",
    "version": 3
   },
   "file_extension": ".py",
   "mimetype": "text/x-python",
   "name": "python",
   "nbconvert_exporter": "python",
   "pygments_lexer": "ipython3",
   "version": "3.9.13"
  }
 },
 "nbformat": 4,
 "nbformat_minor": 5
}
